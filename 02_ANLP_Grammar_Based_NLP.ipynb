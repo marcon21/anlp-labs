{
  "nbformat": 4,
  "nbformat_minor": 0,
  "metadata": {
    "colab": {
      "provenance": [],
      "toc_visible": true,
      "include_colab_link": true
    },
    "kernelspec": {
      "name": "python3",
      "display_name": "Python 3"
    },
    "language_info": {
      "name": "python"
    }
  },
  "cells": [
    {
      "cell_type": "markdown",
      "metadata": {
        "id": "view-in-github",
        "colab_type": "text"
      },
      "source": [
        "<a href=\"https://colab.research.google.com/github/marcon21/anlp-labs/blob/main/02_ANLP_Grammar_Based_NLP.ipynb\" target=\"_parent\"><img src=\"https://colab.research.google.com/assets/colab-badge.svg\" alt=\"Open In Colab\"/></a>"
      ]
    },
    {
      "cell_type": "markdown",
      "source": [
        "Start by copying this into your Google Drive!!"
      ],
      "metadata": {
        "id": "PFE9HH4ULCdR"
      }
    },
    {
      "cell_type": "markdown",
      "source": [
        "![maastricht-university-logo.jpeg](data:image/jpeg;base64,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)\n",
        "#Faculty of Science and Engineering - Department of Advanced Computer Sciences\n",
        "# Course Advanced Natural Language Processing - Tutorial Grammar-based NLP"
      ],
      "metadata": {
        "id": "8S4ipRELHrMV"
      }
    },
    {
      "cell_type": "markdown",
      "source": [
        "By Jan Scholtes\n",
        "\n",
        "Version 2024-2025.1\n",
        "\n",
        "\n",
        "---\n",
        "\n",
        "\n",
        "\n",
        "Welcome to the tutorial on grammar-based NLP. In this notebook you will learn how traditional, grammar-based approaches to deal with syntactic structures, semantics, co-reference & pronoun resolution, and negation handling as discussed in the course Syntax and Semantics.\n",
        "\n",
        "These methods have been used since the 1970's. In many aspects, they are limited and often also slow. The goal of this tutorial is to let you experience hands-on the challenges in NLP (especially dealing with ambiguity), but also with the limitations of these grammar-based approaches (e.g. not being able to deal with ambiguity, wrong spelling or wrong grammatical use of words or other unexpected situations). This will help you understand why statistical and deep-learning methods are so much better for many of the NLP tasks we discuss in this course.\n",
        "\n",
        "In this notebook, we will use the Stanford NLTK library.\n",
        "\n"
      ],
      "metadata": {
        "id": "Df_xXvSeHsxv"
      }
    },
    {
      "cell_type": "markdown",
      "source": [
        "# Load NLTK"
      ],
      "metadata": {
        "id": "CB_nqIUFLPaP"
      }
    },
    {
      "cell_type": "code",
      "source": [
        "import nltk"
      ],
      "metadata": {
        "id": "JvVPpppcHohQ"
      },
      "execution_count": null,
      "outputs": []
    },
    {
      "cell_type": "markdown",
      "source": [
        "NLTK comes with many corpora, toy grammars, trained models, etc. A complete list is posted at: https://www.nltk.org/nltk_data/\n",
        "\n",
        "To install the data, first install NLTK (see https://www.nltk.org/install.html), then use NLTK’s data downloader as described below.\n",
        "\n",
        "Apart from individual data packages, you can download the entire collection (using “all”), or just the data required for the examples and exercises in the book (using “book”), or just the corpora and no grammars or trained models (using “all-corpora”).\n",
        "\n",
        "The command below will start the interactive downloader, that also provides you the option to list all modules present in NLTK.\n",
        "\n",
        "Make sure to quit the interactive download in order to continue!"
      ],
      "metadata": {
        "id": "cGmUkekBMHJk"
      }
    },
    {
      "cell_type": "code",
      "source": [
        "nltk.download()"
      ],
      "metadata": {
        "id": "vranMzadQIcp"
      },
      "execution_count": null,
      "outputs": []
    },
    {
      "cell_type": "markdown",
      "source": [
        "Now let's load most of the most important components we need today:"
      ],
      "metadata": {
        "id": "XRwKFovvMMJs"
      }
    },
    {
      "cell_type": "code",
      "source": [
        "nltk.download('book')"
      ],
      "metadata": {
        "id": "dF8aWv8XMPmm"
      },
      "execution_count": null,
      "outputs": []
    },
    {
      "cell_type": "markdown",
      "source": [
        "# Load Data"
      ],
      "metadata": {
        "id": "RlAs0KpsLSKV"
      }
    },
    {
      "cell_type": "code",
      "source": [
        "from nltk.book import *"
      ],
      "metadata": {
        "id": "oErFbBTKNMKf"
      },
      "execution_count": null,
      "outputs": []
    },
    {
      "cell_type": "markdown",
      "source": [
        "Let's use Moby Dick for now and print the first 1000 chars of the book."
      ],
      "metadata": {
        "id": "jjZFuyVlk5ue"
      }
    },
    {
      "cell_type": "code",
      "source": [
        "list_of_text = text1\n",
        "print(list_of_text[0:1000:1]) # print first 1000 chars"
      ],
      "metadata": {
        "id": "vJJupWcJlF06"
      },
      "execution_count": null,
      "outputs": []
    },
    {
      "cell_type": "markdown",
      "source": [
        "Let's convert this list to a long string as this is what NLTK requires as input and this is what you would normally get form any preprocessing text-extraction process."
      ],
      "metadata": {
        "id": "hSO0lyB6nvcX"
      }
    },
    {
      "cell_type": "code",
      "source": [
        "RawTextMobyDick = \"\"\n",
        "for x in list_of_text:\n",
        "  RawTextMobyDick = RawTextMobyDick + \" \" + x\n",
        "print(RawTextMobyDick)"
      ],
      "metadata": {
        "id": "hYAn_7yFnypw"
      },
      "execution_count": null,
      "outputs": []
    },
    {
      "cell_type": "markdown",
      "source": [
        "# Sentence Detection"
      ],
      "metadata": {
        "id": "RTX9xUgDMBum"
      }
    },
    {
      "cell_type": "markdown",
      "source": [
        "Next we recognize sentences."
      ],
      "metadata": {
        "id": "d287EVN9mVNP"
      }
    },
    {
      "cell_type": "code",
      "source": [
        "tokenizer = nltk.data.load(\"tokenizers/punkt/english.pickle\")\n",
        "sentences = tokenizer.tokenize(RawTextMobyDick)\n",
        "i = 0\n",
        "for x in sentences:\n",
        "  print(x)\n",
        "  i += 1\n",
        "  if i == 30:   #limit sentences that are printed to 30\n",
        "    break\n"
      ],
      "metadata": {
        "id": "K6rNQphcme5_"
      },
      "execution_count": null,
      "outputs": []
    },
    {
      "cell_type": "markdown",
      "source": [
        "# Tokenize"
      ],
      "metadata": {
        "id": "12HlVXm6IFam"
      }
    },
    {
      "cell_type": "markdown",
      "source": [
        "First we tokenize the text. We will leave the punctuation in as we need them later for the linguistic operations we plan to performs."
      ],
      "metadata": {
        "id": "cwI-ITipmRUo"
      }
    },
    {
      "cell_type": "code",
      "source": [
        "words = nltk.tokenize.word_tokenize(RawTextMobyDick)\n",
        "i = 0\n",
        "for x in words:\n",
        "  print(x)\n",
        "  i += 1\n",
        "  if i == 50:   #limit words that are printed to 50\n",
        "    break"
      ],
      "metadata": {
        "id": "rqgkhLInr7VV"
      },
      "execution_count": null,
      "outputs": []
    },
    {
      "cell_type": "markdown",
      "source": [
        "# Stemming in NLTK (this is done by using rules)"
      ],
      "metadata": {
        "id": "0YXDOVMFLpN2"
      }
    },
    {
      "cell_type": "code",
      "source": [
        "from nltk.stem import PorterStemmer\n",
        "from nltk.tokenize import word_tokenize\n",
        "\n",
        "ps = PorterStemmer()\n",
        "\n",
        "i = 0\n",
        "for w in words:\n",
        "    print(w, \" : \", ps.stem(w))\n",
        "    i += 1\n",
        "    if i == 100:\n",
        "      break"
      ],
      "metadata": {
        "id": "r-p0qIS-sgjN"
      },
      "execution_count": null,
      "outputs": []
    },
    {
      "cell_type": "markdown",
      "source": [
        "There is a lot wrong with the above text. It is highly mutilated. So, stemming is not suited for advanced natural language processing. Lemmatization is. but before we can do that, we first need to understand what Part-of-Speech tagging is, because we need that for the lemmatization."
      ],
      "metadata": {
        "id": "mm4OYyLmtPfe"
      }
    },
    {
      "cell_type": "markdown",
      "source": [
        "# POS Tagging"
      ],
      "metadata": {
        "id": "oCt6d7xtLdI4"
      }
    },
    {
      "cell_type": "markdown",
      "source": [
        "In corpus linguistics, part-of-speech tagging (POS tagging or PoS tagging or POST), also called grammatical tagging is the process of marking up a word in a text (corpus) as corresponding to a particular part of speech,based on both its definition and its context. A simplified form of this is commonly taught to school-age children, in the identification of words as nouns, verbs, adjectives, adverbs, etc.\n",
        "\n",
        "Schools commonly teach that there are 9 parts of speech in English: noun, verb, article, adjective, preposition, pronoun, adverb, conjunction, and interjection.\n",
        "\n",
        "However, there are clearly many more categories and sub-categories. For nouns, the plural, possessive, and singular forms can be distinguished. In many languages words are also marked for their \"case\" (role as subject, object, etc.), grammatical gender, and so on; while verbs are marked for tense, aspect, and other things. In some tagging systems, different inflections of the same root word will get different parts of speech, resulting in a large number of tags. For example, NN for singular common nouns, NNS for plural common nouns, NP for singular proper nouns. Other tagging systems use a smaller number of tags and ignore fine differences or model them as features somewhat independent from part-of-speech."
      ],
      "metadata": {
        "id": "cJ1w4PkmLcwE"
      }
    },
    {
      "cell_type": "markdown",
      "source": [
        "In linguistics, a treebank is a parsed text corpus that annotates syntactic or semantic sentence structure. The construction of parsed corpora in the early 1990s revolutionized computational linguistics, which benefitted from large-scale empirical data.\n",
        "\n",
        "The Penn-Tree Bank is a well known annotated corpus. The Penn Treebank (PTB) project selected 2,499 stories from a three year Wall Street Journal (WSJ) collection of 98,732 stories for syntactic annotation. It contains various syntactic tags, among them Part-of-Speech tags. The Penn-Tree bank is included in NLTK.\n",
        "\n",
        "The following function can be called to view a list of all possible part-of-speech tags. The extensive list includes PoS tags such as VB (verb in base form), VBD (verb in past tense), VBG (verb as present participle) and so on."
      ],
      "metadata": {
        "id": "WrpEVxioJzDL"
      }
    },
    {
      "cell_type": "code",
      "source": [
        "nltk.help.upenn_tagset()"
      ],
      "metadata": {
        "id": "MGNjVGaoJw4D"
      },
      "execution_count": null,
      "outputs": []
    },
    {
      "cell_type": "markdown",
      "source": [
        "Now let's try POS tagging on our example text. For this, we can either use a list of sentences or a long lists of words. In our example we will use the list of words."
      ],
      "metadata": {
        "id": "X7W4FCWPGzLD"
      }
    },
    {
      "cell_type": "code",
      "source": [
        "from nltk import pos_tag\n",
        "words_with_pos = nltk.pos_tag(words)\n",
        "i = 0\n",
        "for w in words_with_pos:\n",
        "    print(w)\n",
        "    i += 1\n",
        "    if i == 100:\n",
        "      break"
      ],
      "metadata": {
        "id": "KmLBP3L9Gzmj"
      },
      "execution_count": null,
      "outputs": []
    },
    {
      "cell_type": "markdown",
      "source": [
        "# Better Lemmatization with POS tags"
      ],
      "metadata": {
        "id": "ZjEw3qxNFwpU"
      }
    },
    {
      "cell_type": "markdown",
      "source": [
        "As we discussed above: stemming algorithms just remove a suffix or prefix from a word. This results in highly mutilated text and many non-linguistic words.\n",
        "\n",
        "Lemmatization takes more linguistic knowledge into consideration and implements a so-called morphological analysis of the words. It returns the \"lemma\" which is the base form of all its inflectional forms. For this, it needs to know the grammatical role of a word. We can use the Part-of-Speech tag for this."
      ],
      "metadata": {
        "id": "K9xhEzWewd7W"
      }
    },
    {
      "cell_type": "markdown",
      "source": [
        "#Exercise 1: Stemming versus Lemmatization\n",
        "To address the limits of stemming, we need to apply lemmatization.\n",
        "\n",
        "1a. Can you write the code where you use the token in combination with the POS tag and create the proper lemma for each token for the first few sentences in Moby Dick?\n",
        "\n",
        "1b. What do you observe with words such a BETTER and WAS/WERE?\n",
        "\n"
      ],
      "metadata": {
        "id": "BEy62sivs9-G"
      }
    },
    {
      "cell_type": "code",
      "source": [
        "YOU CODE HERE"
      ],
      "metadata": {
        "id": "BBRh-coxwOEv"
      },
      "execution_count": null,
      "outputs": []
    },
    {
      "cell_type": "markdown",
      "source": [
        "1.b YOUR ANSWER HERE:"
      ],
      "metadata": {
        "id": "dQuLgU9cxN91"
      }
    },
    {
      "cell_type": "markdown",
      "source": [
        "We can also write some code to extract all Noun Phrases using the POS tags. This is very usefull to resolve the boundary and conjunction problem for proper names (e.g. \"Victoria and Albert Museum\")."
      ],
      "metadata": {
        "id": "MwbcDywY9GLN"
      }
    },
    {
      "cell_type": "code",
      "source": [
        "from nltk import pos_tag\n",
        "\n",
        "sentence = str(sentences[4]) # we will take one sentence from the list of sentences\n",
        "\n",
        "print(sentence)\n",
        "sentence_words = nltk.tokenize.word_tokenize(sentence)\n",
        "pos_sentence = nltk.pos_tag(sentence_words)\n",
        "\n",
        "for w in pos_sentence:\n",
        "    if w[1]=='NN':\n",
        "      print(w)\n",
        "    if w[1]=='NNS':\n",
        "      print(w)\n"
      ],
      "metadata": {
        "id": "UdYWS2fH9R4_"
      },
      "execution_count": null,
      "outputs": []
    },
    {
      "cell_type": "markdown",
      "source": [
        "# Phrase Detection"
      ],
      "metadata": {
        "id": "bujVoL9zL3eG"
      }
    },
    {
      "cell_type": "markdown",
      "source": [
        "In sentences, there is a higher syntactic structure above that of POS-tages. The most common ones are Noun Phrases and Verb Phrases. Detecting these can be very usefull for various linguistic operations where we need to understand the beginning and the end of a NOUN or to understand if we are dealing with SINGULAR or PLURAL NOUNS. Let's first detect a NOUN PHRASE"
      ],
      "metadata": {
        "id": "MiutjBp0x1j2"
      }
    },
    {
      "cell_type": "code",
      "source": [
        "from nltk import pos_tag\n",
        "\n",
        "sentence = str(sentences[3]) # we will take one sentence from the list of sentences\n",
        "sentence = \"We can't deal with this\"\n",
        "sentence = sentence.replace('\"','')\n",
        "print(sentence)\n",
        "sentence_words = nltk.tokenize.word_tokenize(sentence)\n",
        "pos_sentence = nltk.pos_tag(sentence_words)\n",
        "\n",
        "i = 0\n",
        "for w in pos_sentence:\n",
        "    print(w)\n",
        "    i += 1\n",
        "    if i == 100:\n",
        "      break\n",
        "\n",
        "grammar = 'NP: {<DT>?<JJ>*<NN>}'  # now define what we are looking for in NP's\n",
        "cp = nltk.RegexpParser(grammar)\n",
        "result = cp.parse(pos_sentence)\n",
        "print(result)\n"
      ],
      "metadata": {
        "id": "ISKkzyGFyq_D"
      },
      "execution_count": null,
      "outputs": []
    },
    {
      "cell_type": "markdown",
      "source": [
        "#Exercise 2: Syntactic Phrase Detection\n",
        "\n",
        "2a. Write your own code to detect Verb Phrases. Fill in the code below.\n",
        "\n",
        "2b. What do you observe with respect to broken sentences, gramatically incorrect sentences and out-of-vocabulary words?\n",
        "\n"
      ],
      "metadata": {
        "id": "kr6dM2iu_NZ9"
      }
    },
    {
      "cell_type": "code",
      "source": [
        "2a. YOUR CODE HERE"
      ],
      "metadata": {
        "id": "bNO2zVCn_VLt"
      },
      "execution_count": null,
      "outputs": []
    },
    {
      "cell_type": "markdown",
      "source": [
        "2b. YOUR ANSWER HERE"
      ],
      "metadata": {
        "id": "5G5sSd8ft8SW"
      }
    },
    {
      "cell_type": "markdown",
      "source": [
        "# Deeper Syntactic Analysis"
      ],
      "metadata": {
        "id": "Skoo4P8ML6lw"
      }
    },
    {
      "cell_type": "markdown",
      "source": [
        "As we have seen in the lecture, the deep structure of a linguistic expression is a theoretical construct that seeks to unify several related structures. For example, the sentences \"Pat loves Chris\" and \"Chris is loved by Pat\" mean roughly the same thing and use similar words. Some linguists, Chomsky in particular, have tried to account for this similarity by positing that these two sentences are distinct surface forms that derive from a common (or very similar) deep structure.\n",
        "\n",
        "NP's and VP's are a first step to discover such deeper structures. But there are other methods as well. We will look into Context Free Grammars, Probabilistic Context Free Grammars and Dependency Grammars."
      ],
      "metadata": {
        "id": "dwgi_gQ1W1j9"
      }
    },
    {
      "cell_type": "markdown",
      "source": [
        "# Context Free Grammar"
      ],
      "metadata": {
        "id": "ACSPZTbwL7F_"
      }
    },
    {
      "cell_type": "markdown",
      "source": [
        "An example of a context free grammar that is includes in NLTK can be found executing the code hereunder."
      ],
      "metadata": {
        "id": "i9AeF9HKMi4r"
      }
    },
    {
      "cell_type": "code",
      "source": [
        "from nltk.parse.generate import generate, demo_grammar\n",
        "from nltk import CFG\n",
        "grammar = CFG.fromstring(demo_grammar)\n",
        "print(grammar)"
      ],
      "metadata": {
        "id": "t7nyMEu0MjR9"
      },
      "execution_count": null,
      "outputs": []
    },
    {
      "cell_type": "markdown",
      "source": [
        "The first 10 generated sentences by this grammar:"
      ],
      "metadata": {
        "id": "KNcSsI1VXsMM"
      }
    },
    {
      "cell_type": "code",
      "source": [
        "for sentence in generate(grammar, n=10):\n",
        "  print(' '.join(sentence))"
      ],
      "metadata": {
        "id": "PvSia59LXwo0"
      },
      "execution_count": null,
      "outputs": []
    },
    {
      "cell_type": "markdown",
      "source": [
        "All sentences of max depth 4 (including the top S):"
      ],
      "metadata": {
        "id": "UPqJEuvAX2JE"
      }
    },
    {
      "cell_type": "code",
      "source": [
        "for sentence in generate(grammar, depth=4):\n",
        "  print(' '.join(sentence))"
      ],
      "metadata": {
        "id": "v8a-OhITX4gd"
      },
      "execution_count": null,
      "outputs": []
    },
    {
      "cell_type": "markdown",
      "source": [
        "The number of sentences of different max depths:"
      ],
      "metadata": {
        "id": "pD1h6opjYJRG"
      }
    },
    {
      "cell_type": "code",
      "source": [
        "i = 0\n",
        "for sentence in generate(grammar, depth=3):\n",
        "  i = i + 1\n",
        "  # print(' '.join(sentence))   # uncomment if you wish to see all sentences\n",
        "print(\"Number of sentences of depth 3: \"+ str(i))\n",
        "\n",
        "i = 0\n",
        "for sentence in generate(grammar, depth=4):\n",
        "  i = i + 1\n",
        "  # print(' '.join(sentence))   # uncomment if you wish to see all sentences\n",
        "print(\"Number of sentences of depth 4: \"+ str(i))\n",
        "\n",
        "i = 0\n",
        "for sentence in generate(grammar, depth=5):\n",
        "  i = i + 1\n",
        "  # print(' '.join(sentence))   # uncomment if you wish to see all sentences\n",
        "print(\"Number of sentences of depth 5: \"+ str(i))\n",
        "\n",
        "i = 0\n",
        "for sentence in generate(grammar, depth=6):\n",
        "  i = i + 1\n",
        "  # print(' '.join(sentence))   # uncomment if you wish to see all sentences\n",
        "print(\"Number of sentences of depth 6: \"+ str(i))\n",
        "\n",
        "i = 0\n",
        "for sentence in generate(grammar):\n",
        "  i = i + 1\n",
        "  # print(' '.join(sentence))   # uncomment if you wish to see all sentences\n",
        "print(\"Number of sentences of unlimited depth: \"+ str(i))"
      ],
      "metadata": {
        "id": "KAvlLyWhYLLF"
      },
      "execution_count": null,
      "outputs": []
    },
    {
      "cell_type": "markdown",
      "source": [
        "In this case, there is a limit of 114 different sentences that can be generated by this simple grammar. More complex grammars o\n",
        "often have infinite recursions and lead towards a recursion error. For that reason, we allways need to bound the number of generations with a CFG.\n",
        "\n",
        "Try the example below:"
      ],
      "metadata": {
        "id": "YDxtd3JWcEv1"
      }
    },
    {
      "cell_type": "code",
      "source": [
        "grammar = CFG.fromstring(\"\"\"\n",
        "  S -> A B\n",
        "  A -> B\n",
        "  B -> \"b\" | A\n",
        "  \"\"\")\n",
        "for sentence in generate(grammar):\n",
        "  i = i + 1\n",
        "  # print(' '.join(sentence))   # uncomment if you wish to see all sentences\n",
        "print(\"Number of sentences of unlimited depth: \"+ str(i))"
      ],
      "metadata": {
        "id": "GwuKRrMLcTgI"
      },
      "execution_count": null,
      "outputs": []
    },
    {
      "cell_type": "markdown",
      "source": [
        "#Syntactic Ambiguity\n",
        "\n",
        "Let's take a closer look at syntactic ambiguity with the sentence: \"I shot an elephant in my pajamas\"\n",
        "\n",
        "In the code examples hereunder, we show you how to access the grammar rules and components."
      ],
      "metadata": {
        "id": "PWkSvVKic63-"
      }
    },
    {
      "cell_type": "code",
      "source": [
        "groucho_grammar = nltk.CFG.fromstring(\"\"\"\n",
        "S -> NP VP\n",
        "PP -> P NP\n",
        "NP -> Det N | Det N PP | 'I'\n",
        "VP -> V NP | VP PP\n",
        "Det -> 'an' | 'my'\n",
        "N -> 'elephant' | 'pajamas'\n",
        "V -> 'shot'\n",
        "P -> 'in'\n",
        "\"\"\")"
      ],
      "metadata": {
        "id": "XSTXE3cqdG8L"
      },
      "execution_count": null,
      "outputs": []
    },
    {
      "cell_type": "code",
      "source": [
        "groucho_grammar"
      ],
      "metadata": {
        "id": "zXArGCfXdKyz"
      },
      "execution_count": null,
      "outputs": []
    },
    {
      "cell_type": "code",
      "source": [
        "type(groucho_grammar)"
      ],
      "metadata": {
        "id": "Yg1VPQ89dNes"
      },
      "execution_count": null,
      "outputs": []
    },
    {
      "cell_type": "code",
      "source": [
        "groucho_grammar.start()"
      ],
      "metadata": {
        "id": "srfzFe4xdQBT"
      },
      "execution_count": null,
      "outputs": []
    },
    {
      "cell_type": "code",
      "source": [
        "groucho_grammar.productions()"
      ],
      "metadata": {
        "id": "K8sj3kwrdTy0"
      },
      "execution_count": null,
      "outputs": []
    },
    {
      "cell_type": "code",
      "source": [
        "from nltk.grammar import *\n",
        "groucho_grammar.productions(lhs=Nonterminal(\"NP\"))"
      ],
      "metadata": {
        "id": "ORuwChywdXCs"
      },
      "execution_count": null,
      "outputs": []
    },
    {
      "cell_type": "code",
      "source": [
        "groucho_grammar.productions(rhs=Nonterminal(\"Det\"))"
      ],
      "metadata": {
        "id": "hupa5zjRdZtM"
      },
      "execution_count": null,
      "outputs": []
    },
    {
      "cell_type": "code",
      "source": [
        "pp = groucho_grammar.productions(rhs=Nonterminal(\"Det\"))\n",
        "pp[0]"
      ],
      "metadata": {
        "id": "tslVagY2dfiT"
      },
      "execution_count": null,
      "outputs": []
    },
    {
      "cell_type": "code",
      "source": [
        "pp[0].lhs()"
      ],
      "metadata": {
        "id": "sh2O69tNdost"
      },
      "execution_count": null,
      "outputs": []
    },
    {
      "cell_type": "code",
      "source": [
        "pp[0].rhs()"
      ],
      "metadata": {
        "id": "wRWtoE6Qdq5l"
      },
      "execution_count": null,
      "outputs": []
    },
    {
      "cell_type": "markdown",
      "source": [
        "NLTK comes with pre-implemented parsers for CFGs. Parsing a sentence with a CFG returns a list of parse trees. We can either look at their string representations or have the trees drawn graphically."
      ],
      "metadata": {
        "id": "rkY9Ovxid1sN"
      }
    },
    {
      "cell_type": "code",
      "source": [
        "sent = ['I', 'shot', 'an', 'elephant', 'in', 'my', 'pajamas']\n",
        "parser = nltk.ChartParser(groucho_grammar)\n",
        "trees = parser.parse(sent)\n",
        "for tree in trees:\n",
        "  print(tree)"
      ],
      "metadata": {
        "id": "YIZNueOGd6SN"
      },
      "execution_count": null,
      "outputs": []
    },
    {
      "cell_type": "markdown",
      "source": [
        "The first one is:\n",
        "![image.png](data:image/png;base64,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)\n",
        "\n",
        "\n",
        "And the second one is:\n",
        "\n",
        "![image.png](data:image/png;base64,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)\n",
        "\n"
      ],
      "metadata": {
        "id": "u9wv2oYsehjb"
      }
    },
    {
      "cell_type": "markdown",
      "source": [
        "The first one is the more probable analysis: it shows that I am running around in my pajamas and I shoot an elephant. The second one describes an elephant that runs around in my pajamas that I shoot."
      ],
      "metadata": {
        "id": "R2N7z62QYfE8"
      }
    },
    {
      "cell_type": "markdown",
      "source": [
        "# Statistics to deal with linguistic ambiguity: PCFG"
      ],
      "metadata": {
        "id": "ncNPWtGmMaVu"
      }
    },
    {
      "cell_type": "markdown",
      "source": [
        "As we have discussed in the lecture, we can handle a parser to deal with the above ambiguity, by adding a linguistic probability to a production rule or a terminal. Such CFG grammars are called Probabilistic Context Free Grammars (PCFG)\n",
        "\n",
        "PCFG rules are defined in the same way. In addition a probability is assigned to each right-hand side of a rule. All probabilities for one particular left-hand side have to sum up to 1.\n",
        "\n",
        "The following code imports the PCFG class from NLTK:\n",
        "\n"
      ],
      "metadata": {
        "id": "qenujR8xfZB0"
      }
    },
    {
      "cell_type": "code",
      "source": [
        "from nltk import PCFG"
      ],
      "metadata": {
        "id": "oaZvJ6PQfwj1"
      },
      "execution_count": null,
      "outputs": []
    },
    {
      "cell_type": "markdown",
      "source": [
        "Next, define the grammar:"
      ],
      "metadata": {
        "id": "AplhuH6Yf7gt"
      }
    },
    {
      "cell_type": "code",
      "source": [
        "pcfg1 = PCFG.fromstring(\"\"\"\n",
        "    S -> NP VP [1.0]\n",
        "    NP -> Det N [0.5] | NP PP [0.25] | N [0.25]\n",
        "    PP -> P NP [1.0]\n",
        "    VP -> VP PP [0.1] | V NP [0.7] | V [0.2]\n",
        "    N -> 'woman' [0.3] | 'man' [0.3] | 'telescope' [0.3] | 'mixer' [0.1]\n",
        "    Det -> 'the' [0.6] | 'a' [0.2] | 'my' [0.2]\n",
        "    V -> 'killed' [0.35] | 'saw' [0.65]\n",
        "    P -> 'with' [0.61] | 'under' [0.39]\n",
        "\"\"\")"
      ],
      "metadata": {
        "id": "HUVIial3f-s-"
      },
      "execution_count": null,
      "outputs": []
    },
    {
      "cell_type": "markdown",
      "source": [
        "Print all productions:"
      ],
      "metadata": {
        "id": "xX2COQuUgCnc"
      }
    },
    {
      "cell_type": "code",
      "source": [
        "print(pcfg1)"
      ],
      "metadata": {
        "id": "bvTcBtV7gEpM"
      },
      "execution_count": null,
      "outputs": []
    },
    {
      "cell_type": "markdown",
      "source": [
        "We can estimate these probabilities from a corpus, such as the UPENN corpus.\n",
        "\n",
        "Once we have such a grammar, we can use it for parsing.\n",
        "\n",
        "The code hereunder shows you how this works for a ambigious sentence we discussed in the lecture: \"I saw John with my Telescope on the Hill\""
      ],
      "metadata": {
        "id": "R4yat4WMg016"
      }
    },
    {
      "cell_type": "code",
      "source": [
        "from nltk import PCFG\n",
        "toy_pcfg1 = PCFG.fromstring(\"\"\"\n",
        "  S -> NP VP [1.0]\n",
        "  NP -> Det N [0.5] | NP PP [0.25] | 'John' [0.1] | 'I' [0.15]\n",
        "  Det -> 'the' [0.8] | 'my' [0.2]\n",
        "  N -> 'man' [0.5] | 'telescope' [0.5]\n",
        "  VP -> VP PP [0.1] | V NP [0.7] | V [0.2]\n",
        "  V -> 'ate' [0.35] | 'saw' [0.65]\n",
        "  PP -> P NP [1.0]\n",
        "  P -> 'with' [0.61] | 'under' [0.39]\n",
        "  \"\"\")\n",
        "print(toy_pcfg1)"
      ],
      "metadata": {
        "id": "YecEUUeDhceN"
      },
      "execution_count": null,
      "outputs": []
    },
    {
      "cell_type": "code",
      "source": [
        "amb_sentence = ['I', 'saw', 'John', 'with', 'my', 'telescope']\n",
        "\n",
        "\n",
        "parser = nltk.ChartParser(toy_pcfg1)\n",
        "trees = parser.parse(amb_sentence)\n",
        "for tree in trees:\n",
        "  print(tree)"
      ],
      "metadata": {
        "id": "m-zWgsxGkQaM"
      },
      "execution_count": null,
      "outputs": []
    },
    {
      "cell_type": "markdown",
      "source": [
        "#Exercise 3: Linguistic Ambiguity\n",
        "\n",
        "3a. Explain what you observe.\n",
        "\n",
        "3b. Which of the two parses is more probable?\n",
        "\n",
        "3c. Which rule / probability makes the difference in the disambiguation?"
      ],
      "metadata": {
        "id": "XeZJWWWgkpYX"
      }
    },
    {
      "cell_type": "markdown",
      "source": [
        "YOUR ANSWER HERE:\n",
        "\n",
        "3a.\n",
        "\n",
        "\n",
        "3b.\n",
        "\n",
        "\n",
        "3c.\n",
        "\n",
        "\n"
      ],
      "metadata": {
        "id": "EMYVqPhakzTE"
      }
    },
    {
      "cell_type": "markdown",
      "source": [
        "# Dependency Grammar"
      ],
      "metadata": {
        "id": "foz04AX8MR6h"
      }
    },
    {
      "cell_type": "markdown",
      "source": [
        "Dependency Parsing is the process to analyze the grammatical structure in a sentence and find out related words as well as the type of the relationship between them.\n",
        "Dependency grammars allow us to understand (long-term) relations between words and phrases in a sentence.\n",
        "\n",
        "Dependency grammars are well suited for co-referece and pronoun resolution and for negations handling.\n",
        "\n",
        "Let's take a closer look..."
      ],
      "metadata": {
        "id": "SRb9tj4hlCfc"
      }
    },
    {
      "cell_type": "code",
      "source": [
        "from nltk.grammar import DependencyGrammar\n",
        "from nltk.parse import (\n",
        "  DependencyGraph,\n",
        "  ProjectiveDependencyParser,\n",
        "  NonprojectiveDependencyParser,\n",
        "  )\n",
        "treebank_data = \"\"\"Pierre  NNP     2       NMOD\n",
        "Vinken  NNP     8       SUB\n",
        ",       ,       2       P\n",
        "61      CD      5       NMOD\n",
        "years   NNS     6       AMOD\n",
        "old     JJ      2       NMOD\n",
        ",       ,       2       P\n",
        "will    MD      0       ROOT\n",
        "join    VB      8       VC\n",
        "the     DT      11      NMOD\n",
        "board   NN      9       OBJ\n",
        "as      IN      9       VMOD\n",
        "a       DT      15      NMOD\n",
        "nonexecutive    JJ      15      NMOD\n",
        "director        NN      12      PMOD\n",
        "Nov.    NNP     9       VMOD\n",
        "29      CD      16      NMOD\n",
        ".       .       9       VMOD\n",
        "\"\"\"\n",
        "dg = DependencyGraph(treebank_data)\n",
        "dg.tree().pprint()\n"
      ],
      "metadata": {
        "id": "wvVUt-8BlYDn"
      },
      "execution_count": null,
      "outputs": []
    },
    {
      "cell_type": "code",
      "source": [
        "for head, rel, dep in dg.triples():\n",
        "    print(\n",
        "        '({h[0]}, {h[1]}), {r}, ({d[0]}, {d[1]})'\n",
        "        .format(h=head, r=rel, d=dep)\n",
        "    )"
      ],
      "metadata": {
        "id": "iHbzYEsNnq_N"
      },
      "execution_count": null,
      "outputs": []
    },
    {
      "cell_type": "markdown",
      "source": [
        "#Exercise 4: Dependendy Grammars foor Co-Reference Resolution and Negation Scope Handling\n",
        "\n",
        "Explain (step by step) how a dependency grammar analysis can be used to disambiguate HE and determine the scope of NOT in the following sentence: \"Pierre Vinken is a 61 years old CEO, HE is also the executive director from five other companies. He is NOT the Pierre Vinken that is a famous football player in Belgium.\""
      ],
      "metadata": {
        "id": "HXzBWDsUY8Vm"
      }
    },
    {
      "cell_type": "markdown",
      "source": [
        "YOUR ANSWER:\n",
        "\n",
        "a. Provide dependency graph for the sentence: \"Pierre Vinken is a 61 years old CEO, HE is also the executive director from five other companies. He is NOT the Pierre Vinken that is a famous football player in Belgium.\"\n",
        "\n",
        "b. Describe the steps for the Disambiguation of HE:\n",
        "\n",
        "c. Describe the steps to determine the scope of NOT:\n",
        "\n"
      ],
      "metadata": {
        "id": "lyMoPavcZucS"
      }
    }
  ]
}